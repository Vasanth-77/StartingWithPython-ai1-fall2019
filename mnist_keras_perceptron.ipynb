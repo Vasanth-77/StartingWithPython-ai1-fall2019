{
  "nbformat": 4,
  "nbformat_minor": 0,
  "metadata": {
    "colab": {
      "name": "mnist-keras-perceptron.ipynb",
      "provenance": [],
      "collapsed_sections": [],
      "include_colab_link": true
    },
    "kernelspec": {
      "name": "python3",
      "display_name": "Python 3"
    },
    "accelerator": "GPU"
  },
  "cells": [
    {
      "cell_type": "markdown",
      "metadata": {
        "id": "view-in-github",
        "colab_type": "text"
      },
      "source": [
        "<a href=\"https://colab.research.google.com/github/Vasanth-77/StartingWithPython-ai1-fall2019/blob/master/mnist_keras_perceptron.ipynb\" target=\"_parent\"><img src=\"https://colab.research.google.com/assets/colab-badge.svg\" alt=\"Open In Colab\"/></a>"
      ]
    },
    {
      "cell_type": "code",
      "metadata": {
        "id": "0rrbVKm5n6E3",
        "colab_type": "code",
        "colab": {}
      },
      "source": [
        "# taken from lukas/ml-class\n",
        "import numpy as np\n",
        "from keras.datasets import mnist\n",
        "from keras.models import Sequential\n",
        "from keras.layers import Dense, Flatten, Dropout\n",
        "from keras.utils import np_utils\n",
        "from keras.callbacks import Callback\n",
        "import json\n",
        "\n",
        "# from wandb.keras import WandbCallback\n",
        "# import wandb\n",
        "\n",
        "# run = wandb.init()\n",
        "# config = run.config\n",
        "\n",
        "\n",
        "\n",
        "\n"
      ],
      "execution_count": 0,
      "outputs": []
    },
    {
      "cell_type": "markdown",
      "metadata": {
        "id": "1bgcIFMpUgYv",
        "colab_type": "text"
      },
      "source": [
        "### Hello World\n",
        "\n",
        "1.One\n",
        "\n",
        "2.Two\n",
        "\n",
        "3.Three\n",
        "\n",
        "ddghdtfghdjhdfhfdggdygdydgydgyygdyydgygde\n",
        "yedgeydgyegdydygdygdyggdygdydyeydg\n",
        "\n",
        "-hello\n",
        "-waorld\n",
        "-gunnu\n",
        "\n",
        "Hello the $\\alpha$ is a greek letter.\n",
        "$$\\alpha + \\beta + \\gamma = \\delta$$\n",
        "\n",
        "---\n",
        "\n",
        "*alpha*"
      ]
    },
    {
      "cell_type": "markdown",
      "metadata": {
        "id": "jwD2SO3FUdE5",
        "colab_type": "text"
      },
      "source": [
        ""
      ]
    },
    {
      "cell_type": "code",
      "metadata": {
        "id": "8Gq6S5C7USi2",
        "colab_type": "code",
        "colab": {
          "base_uri": "https://localhost:8080/",
          "height": 34
        },
        "outputId": "04624c98-f9dd-4e05-b444-51be8195fa40"
      },
      "source": [
        "a=(1,2)\n",
        "type(a)\n",
        "\n",
        "\n"
      ],
      "execution_count": 51,
      "outputs": [
        {
          "output_type": "execute_result",
          "data": {
            "text/plain": [
              "tuple"
            ]
          },
          "metadata": {
            "tags": []
          },
          "execution_count": 51
        }
      ]
    },
    {
      "cell_type": "code",
      "metadata": {
        "id": "aUzDPQa4Rapu",
        "colab_type": "code",
        "colab": {
          "base_uri": "https://localhost:8080/",
          "height": 34
        },
        "outputId": "6c94a188-78b0-418f-fbe3-d1d3963b0a4f"
      },
      "source": [
        "class Config:\n",
        "  pass\n",
        "\n",
        "config = Config()\n",
        "config.optimizer = \"adam\"\n",
        "config.epochs = 30\n",
        "config.hidden_nodes = 30\n",
        "\n",
        "# load data\n",
        "(X_train, y_train), (X_test, y_test) = mnist.load_data()\n",
        "img_width = X_train.shape[1]\n",
        "img_height = X_train.shape[2]\n",
        "print(X_train.shape, y_train.shape)\n",
        "#X_train = X_train.astype('float32')\n",
        "#X_train /= 255.\n",
        "#X_test = X_test.astype('float32')\n",
        "#X_test /= 255.\n",
        "\n",
        "# Normalize, change learning rate, play with layer size, batchsize\n",
        "\n",
        "# one hot encode outputs\n",
        "y_train = np_utils.to_categorical(y_train)\n",
        "y_test = np_utils.to_categorical(y_test)\n",
        "labels = range(10)\n",
        "\n",
        "num_classes = y_train.shape[1]\n",
        "\n"
      ],
      "execution_count": 52,
      "outputs": [
        {
          "output_type": "stream",
          "text": [
            "(60000, 28, 28) (60000,)\n"
          ],
          "name": "stdout"
        }
      ]
    },
    {
      "cell_type": "code",
      "metadata": {
        "id": "5j9gef_EyyKi",
        "colab_type": "code",
        "colab": {
          "base_uri": "https://localhost:8080/",
          "height": 1000
        },
        "outputId": "f85ac3ce-8020-410b-ff29-b519283da5ff"
      },
      "source": [
        "X_train[0]"
      ],
      "execution_count": 53,
      "outputs": [
        {
          "output_type": "execute_result",
          "data": {
            "text/plain": [
              "array([[  0,   0,   0,   0,   0,   0,   0,   0,   0,   0,   0,   0,   0,\n",
              "          0,   0,   0,   0,   0,   0,   0,   0,   0,   0,   0,   0,   0,\n",
              "          0,   0],\n",
              "       [  0,   0,   0,   0,   0,   0,   0,   0,   0,   0,   0,   0,   0,\n",
              "          0,   0,   0,   0,   0,   0,   0,   0,   0,   0,   0,   0,   0,\n",
              "          0,   0],\n",
              "       [  0,   0,   0,   0,   0,   0,   0,   0,   0,   0,   0,   0,   0,\n",
              "          0,   0,   0,   0,   0,   0,   0,   0,   0,   0,   0,   0,   0,\n",
              "          0,   0],\n",
              "       [  0,   0,   0,   0,   0,   0,   0,   0,   0,   0,   0,   0,   0,\n",
              "          0,   0,   0,   0,   0,   0,   0,   0,   0,   0,   0,   0,   0,\n",
              "          0,   0],\n",
              "       [  0,   0,   0,   0,   0,   0,   0,   0,   0,   0,   0,   0,   0,\n",
              "          0,   0,   0,   0,   0,   0,   0,   0,   0,   0,   0,   0,   0,\n",
              "          0,   0],\n",
              "       [  0,   0,   0,   0,   0,   0,   0,   0,   0,   0,   0,   0,   3,\n",
              "         18,  18,  18, 126, 136, 175,  26, 166, 255, 247, 127,   0,   0,\n",
              "          0,   0],\n",
              "       [  0,   0,   0,   0,   0,   0,   0,   0,  30,  36,  94, 154, 170,\n",
              "        253, 253, 253, 253, 253, 225, 172, 253, 242, 195,  64,   0,   0,\n",
              "          0,   0],\n",
              "       [  0,   0,   0,   0,   0,   0,   0,  49, 238, 253, 253, 253, 253,\n",
              "        253, 253, 253, 253, 251,  93,  82,  82,  56,  39,   0,   0,   0,\n",
              "          0,   0],\n",
              "       [  0,   0,   0,   0,   0,   0,   0,  18, 219, 253, 253, 253, 253,\n",
              "        253, 198, 182, 247, 241,   0,   0,   0,   0,   0,   0,   0,   0,\n",
              "          0,   0],\n",
              "       [  0,   0,   0,   0,   0,   0,   0,   0,  80, 156, 107, 253, 253,\n",
              "        205,  11,   0,  43, 154,   0,   0,   0,   0,   0,   0,   0,   0,\n",
              "          0,   0],\n",
              "       [  0,   0,   0,   0,   0,   0,   0,   0,   0,  14,   1, 154, 253,\n",
              "         90,   0,   0,   0,   0,   0,   0,   0,   0,   0,   0,   0,   0,\n",
              "          0,   0],\n",
              "       [  0,   0,   0,   0,   0,   0,   0,   0,   0,   0,   0, 139, 253,\n",
              "        190,   2,   0,   0,   0,   0,   0,   0,   0,   0,   0,   0,   0,\n",
              "          0,   0],\n",
              "       [  0,   0,   0,   0,   0,   0,   0,   0,   0,   0,   0,  11, 190,\n",
              "        253,  70,   0,   0,   0,   0,   0,   0,   0,   0,   0,   0,   0,\n",
              "          0,   0],\n",
              "       [  0,   0,   0,   0,   0,   0,   0,   0,   0,   0,   0,   0,  35,\n",
              "        241, 225, 160, 108,   1,   0,   0,   0,   0,   0,   0,   0,   0,\n",
              "          0,   0],\n",
              "       [  0,   0,   0,   0,   0,   0,   0,   0,   0,   0,   0,   0,   0,\n",
              "         81, 240, 253, 253, 119,  25,   0,   0,   0,   0,   0,   0,   0,\n",
              "          0,   0],\n",
              "       [  0,   0,   0,   0,   0,   0,   0,   0,   0,   0,   0,   0,   0,\n",
              "          0,  45, 186, 253, 253, 150,  27,   0,   0,   0,   0,   0,   0,\n",
              "          0,   0],\n",
              "       [  0,   0,   0,   0,   0,   0,   0,   0,   0,   0,   0,   0,   0,\n",
              "          0,   0,  16,  93, 252, 253, 187,   0,   0,   0,   0,   0,   0,\n",
              "          0,   0],\n",
              "       [  0,   0,   0,   0,   0,   0,   0,   0,   0,   0,   0,   0,   0,\n",
              "          0,   0,   0,   0, 249, 253, 249,  64,   0,   0,   0,   0,   0,\n",
              "          0,   0],\n",
              "       [  0,   0,   0,   0,   0,   0,   0,   0,   0,   0,   0,   0,   0,\n",
              "          0,  46, 130, 183, 253, 253, 207,   2,   0,   0,   0,   0,   0,\n",
              "          0,   0],\n",
              "       [  0,   0,   0,   0,   0,   0,   0,   0,   0,   0,   0,   0,  39,\n",
              "        148, 229, 253, 253, 253, 250, 182,   0,   0,   0,   0,   0,   0,\n",
              "          0,   0],\n",
              "       [  0,   0,   0,   0,   0,   0,   0,   0,   0,   0,  24, 114, 221,\n",
              "        253, 253, 253, 253, 201,  78,   0,   0,   0,   0,   0,   0,   0,\n",
              "          0,   0],\n",
              "       [  0,   0,   0,   0,   0,   0,   0,   0,  23,  66, 213, 253, 253,\n",
              "        253, 253, 198,  81,   2,   0,   0,   0,   0,   0,   0,   0,   0,\n",
              "          0,   0],\n",
              "       [  0,   0,   0,   0,   0,   0,  18, 171, 219, 253, 253, 253, 253,\n",
              "        195,  80,   9,   0,   0,   0,   0,   0,   0,   0,   0,   0,   0,\n",
              "          0,   0],\n",
              "       [  0,   0,   0,   0,  55, 172, 226, 253, 253, 253, 253, 244, 133,\n",
              "         11,   0,   0,   0,   0,   0,   0,   0,   0,   0,   0,   0,   0,\n",
              "          0,   0],\n",
              "       [  0,   0,   0,   0, 136, 253, 253, 253, 212, 135, 132,  16,   0,\n",
              "          0,   0,   0,   0,   0,   0,   0,   0,   0,   0,   0,   0,   0,\n",
              "          0,   0],\n",
              "       [  0,   0,   0,   0,   0,   0,   0,   0,   0,   0,   0,   0,   0,\n",
              "          0,   0,   0,   0,   0,   0,   0,   0,   0,   0,   0,   0,   0,\n",
              "          0,   0],\n",
              "       [  0,   0,   0,   0,   0,   0,   0,   0,   0,   0,   0,   0,   0,\n",
              "          0,   0,   0,   0,   0,   0,   0,   0,   0,   0,   0,   0,   0,\n",
              "          0,   0],\n",
              "       [  0,   0,   0,   0,   0,   0,   0,   0,   0,   0,   0,   0,   0,\n",
              "          0,   0,   0,   0,   0,   0,   0,   0,   0,   0,   0,   0,   0,\n",
              "          0,   0]], dtype=uint8)"
            ]
          },
          "metadata": {
            "tags": []
          },
          "execution_count": 53
        }
      ]
    },
    {
      "cell_type": "code",
      "metadata": {
        "id": "Rxc_XPdURrbi",
        "colab_type": "code",
        "colab": {
          "base_uri": "https://localhost:8080/",
          "height": 289
        },
        "outputId": "16b1e90d-5a6d-4609-cc17-13cf00165616"
      },
      "source": [
        "# create model\n",
        "model = Sequential()\n",
        "model.add(Flatten(input_shape=(img_width, img_height)))\n",
        "model.add(Dense(config.hidden_nodes, activation='relu'))\n",
        "model.add(Dense(config.hidden_nodes, activation='relu'))\n",
        "model.add(Dense(num_classes, activation='softmax'))\n",
        "model.compile(loss='categorical_crossentropy', optimizer=config.optimizer,\n",
        "              metrics=['accuracy'])\n",
        "model.summary()"
      ],
      "execution_count": 54,
      "outputs": [
        {
          "output_type": "stream",
          "text": [
            "Model: \"sequential_2\"\n",
            "_________________________________________________________________\n",
            "Layer (type)                 Output Shape              Param #   \n",
            "=================================================================\n",
            "flatten_2 (Flatten)          (None, 784)               0         \n",
            "_________________________________________________________________\n",
            "dense_4 (Dense)              (None, 30)                23550     \n",
            "_________________________________________________________________\n",
            "dense_5 (Dense)              (None, 30)                930       \n",
            "_________________________________________________________________\n",
            "dense_6 (Dense)              (None, 10)                310       \n",
            "=================================================================\n",
            "Total params: 24,790\n",
            "Trainable params: 24,790\n",
            "Non-trainable params: 0\n",
            "_________________________________________________________________\n"
          ],
          "name": "stdout"
        }
      ]
    },
    {
      "cell_type": "code",
      "metadata": {
        "id": "B_12mmlySXF7",
        "colab_type": "code",
        "colab": {
          "base_uri": "https://localhost:8080/",
          "height": 1000
        },
        "outputId": "085e73f6-98ce-405f-ee4c-76497946b079"
      },
      "source": [
        "# Fit the model\n",
        "history=model.fit(X_train, y_train, validation_data=(X_test, y_test),\n",
        "          epochs=config.epochs)"
      ],
      "execution_count": 55,
      "outputs": [
        {
          "output_type": "stream",
          "text": [
            "Train on 60000 samples, validate on 10000 samples\n",
            "Epoch 1/30\n",
            "60000/60000 [==============================] - 10s 170us/step - loss: 8.1328 - acc: 0.4885 - val_loss: 7.0917 - val_acc: 0.5528\n",
            "Epoch 2/30\n",
            "60000/60000 [==============================] - 10s 166us/step - loss: 6.4272 - acc: 0.5960 - val_loss: 5.7420 - val_acc: 0.6401\n",
            "Epoch 3/30\n",
            "60000/60000 [==============================] - 10s 167us/step - loss: 5.3520 - acc: 0.6641 - val_loss: 4.1643 - val_acc: 0.7386\n",
            "Epoch 4/30\n",
            "60000/60000 [==============================] - 10s 166us/step - loss: 4.0141 - acc: 0.7471 - val_loss: 3.1029 - val_acc: 0.8023\n",
            "Epoch 5/30\n",
            "60000/60000 [==============================] - 10s 174us/step - loss: 2.8608 - acc: 0.8195 - val_loss: 2.6701 - val_acc: 0.8314\n",
            "Epoch 6/30\n",
            "60000/60000 [==============================] - 10s 167us/step - loss: 2.6653 - acc: 0.8320 - val_loss: 2.5503 - val_acc: 0.8397\n",
            "Epoch 7/30\n",
            "60000/60000 [==============================] - 10s 166us/step - loss: 2.6483 - acc: 0.8335 - val_loss: 2.6915 - val_acc: 0.8307\n",
            "Epoch 8/30\n",
            "60000/60000 [==============================] - 10s 167us/step - loss: 2.5864 - acc: 0.8378 - val_loss: 2.5654 - val_acc: 0.8398\n",
            "Epoch 9/30\n",
            "60000/60000 [==============================] - 10s 166us/step - loss: 2.5873 - acc: 0.8379 - val_loss: 2.5229 - val_acc: 0.8421\n",
            "Epoch 10/30\n",
            "60000/60000 [==============================] - 10s 165us/step - loss: 2.5832 - acc: 0.8381 - val_loss: 2.5886 - val_acc: 0.8383\n",
            "Epoch 11/30\n",
            "60000/60000 [==============================] - 10s 164us/step - loss: 2.5680 - acc: 0.8393 - val_loss: 2.4134 - val_acc: 0.8494\n",
            "Epoch 12/30\n",
            "60000/60000 [==============================] - 10s 169us/step - loss: 2.5381 - acc: 0.8412 - val_loss: 2.6597 - val_acc: 0.8334\n",
            "Epoch 13/30\n",
            "60000/60000 [==============================] - 10s 169us/step - loss: 2.5653 - acc: 0.8398 - val_loss: 2.5984 - val_acc: 0.8369\n",
            "Epoch 14/30\n",
            "60000/60000 [==============================] - 10s 166us/step - loss: 2.5066 - acc: 0.8433 - val_loss: 2.5959 - val_acc: 0.8383\n",
            "Epoch 15/30\n",
            "60000/60000 [==============================] - 10s 168us/step - loss: 2.5811 - acc: 0.8387 - val_loss: 2.6036 - val_acc: 0.8375\n",
            "Epoch 16/30\n",
            "60000/60000 [==============================] - 10s 167us/step - loss: 2.4777 - acc: 0.8453 - val_loss: 2.6116 - val_acc: 0.8372\n",
            "Epoch 17/30\n",
            "60000/60000 [==============================] - 10s 166us/step - loss: 2.5154 - acc: 0.8432 - val_loss: 2.7336 - val_acc: 0.8294\n",
            "Epoch 18/30\n",
            "60000/60000 [==============================] - 10s 166us/step - loss: 2.5023 - acc: 0.8441 - val_loss: 2.4727 - val_acc: 0.8454\n",
            "Epoch 19/30\n",
            "60000/60000 [==============================] - 10s 163us/step - loss: 2.4319 - acc: 0.8483 - val_loss: 2.4570 - val_acc: 0.8465\n",
            "Epoch 20/30\n",
            "60000/60000 [==============================] - 10s 166us/step - loss: 2.4402 - acc: 0.8480 - val_loss: 2.4770 - val_acc: 0.8457\n",
            "Epoch 21/30\n",
            "60000/60000 [==============================] - 10s 168us/step - loss: 2.5434 - acc: 0.8415 - val_loss: 2.4528 - val_acc: 0.8471\n",
            "Epoch 22/30\n",
            "60000/60000 [==============================] - 10s 167us/step - loss: 2.4265 - acc: 0.8489 - val_loss: 2.6596 - val_acc: 0.8340\n",
            "Epoch 23/30\n",
            "60000/60000 [==============================] - 10s 167us/step - loss: 2.4391 - acc: 0.8481 - val_loss: 2.4123 - val_acc: 0.8495\n",
            "Epoch 24/30\n",
            "60000/60000 [==============================] - 10s 164us/step - loss: 2.4168 - acc: 0.8494 - val_loss: 2.4150 - val_acc: 0.8498\n",
            "Epoch 25/30\n",
            "60000/60000 [==============================] - 10s 165us/step - loss: 2.4947 - acc: 0.8446 - val_loss: 2.4588 - val_acc: 0.8469\n",
            "Epoch 26/30\n",
            "60000/60000 [==============================] - 10s 167us/step - loss: 2.3989 - acc: 0.8507 - val_loss: 2.4441 - val_acc: 0.8473\n",
            "Epoch 27/30\n",
            "60000/60000 [==============================] - 10s 166us/step - loss: 2.4264 - acc: 0.8489 - val_loss: 2.3123 - val_acc: 0.8558\n",
            "Epoch 28/30\n",
            "60000/60000 [==============================] - 10s 165us/step - loss: 2.4744 - acc: 0.8459 - val_loss: 2.4732 - val_acc: 0.8462\n",
            "Epoch 29/30\n",
            "60000/60000 [==============================] - 10s 166us/step - loss: 2.3713 - acc: 0.8524 - val_loss: 2.4858 - val_acc: 0.8452\n",
            "Epoch 30/30\n",
            "60000/60000 [==============================] - 10s 165us/step - loss: 2.3868 - acc: 0.8516 - val_loss: 2.6482 - val_acc: 0.8350\n"
          ],
          "name": "stdout"
        }
      ]
    },
    {
      "cell_type": "code",
      "metadata": {
        "id": "4tzR5CEKRixt",
        "colab_type": "code",
        "colab": {
          "base_uri": "https://localhost:8080/",
          "height": 34
        },
        "outputId": "d0ef458e-633e-4faf-e730-e4ff11d1fa0a"
      },
      "source": [
        "y_train.shape\n"
      ],
      "execution_count": 56,
      "outputs": [
        {
          "output_type": "execute_result",
          "data": {
            "text/plain": [
              "(60000, 10)"
            ]
          },
          "metadata": {
            "tags": []
          },
          "execution_count": 56
        }
      ]
    },
    {
      "cell_type": "code",
      "metadata": {
        "id": "8lD_yP87RlYu",
        "colab_type": "code",
        "colab": {
          "base_uri": "https://localhost:8080/",
          "height": 34
        },
        "outputId": "4408a58d-733f-4e8a-9a99-312123c9ee13"
      },
      "source": [
        "X_test.shape\n"
      ],
      "execution_count": 57,
      "outputs": [
        {
          "output_type": "execute_result",
          "data": {
            "text/plain": [
              "(10000, 28, 28)"
            ]
          },
          "metadata": {
            "tags": []
          },
          "execution_count": 57
        }
      ]
    },
    {
      "cell_type": "code",
      "metadata": {
        "id": "vxQgU1riyIM_",
        "colab_type": "code",
        "colab": {
          "base_uri": "https://localhost:8080/",
          "height": 1000
        },
        "outputId": "61ca9d7a-32bb-41bf-b24a-2bdd1846d23b"
      },
      "source": [
        "dir()\n"
      ],
      "execution_count": 58,
      "outputs": [
        {
          "output_type": "execute_result",
          "data": {
            "text/plain": [
              "['Callback',\n",
              " 'Config',\n",
              " 'Dense',\n",
              " 'Dropout',\n",
              " 'Flatten',\n",
              " 'In',\n",
              " 'Out',\n",
              " 'Sequential',\n",
              " 'X_test',\n",
              " 'X_train',\n",
              " '_',\n",
              " '_10',\n",
              " '_14',\n",
              " '_23',\n",
              " '_25',\n",
              " '_26',\n",
              " '_27',\n",
              " '_30',\n",
              " '_36',\n",
              " '_38',\n",
              " '_41',\n",
              " '_42',\n",
              " '_43',\n",
              " '_44',\n",
              " '_45',\n",
              " '_46',\n",
              " '_51',\n",
              " '_53',\n",
              " '_56',\n",
              " '_57',\n",
              " '__',\n",
              " '___',\n",
              " '__builtin__',\n",
              " '__builtins__',\n",
              " '__doc__',\n",
              " '__loader__',\n",
              " '__name__',\n",
              " '__package__',\n",
              " '__spec__',\n",
              " '_dh',\n",
              " '_i',\n",
              " '_i1',\n",
              " '_i10',\n",
              " '_i11',\n",
              " '_i12',\n",
              " '_i13',\n",
              " '_i14',\n",
              " '_i15',\n",
              " '_i16',\n",
              " '_i17',\n",
              " '_i18',\n",
              " '_i19',\n",
              " '_i2',\n",
              " '_i20',\n",
              " '_i21',\n",
              " '_i22',\n",
              " '_i23',\n",
              " '_i24',\n",
              " '_i25',\n",
              " '_i26',\n",
              " '_i27',\n",
              " '_i28',\n",
              " '_i29',\n",
              " '_i3',\n",
              " '_i30',\n",
              " '_i31',\n",
              " '_i32',\n",
              " '_i33',\n",
              " '_i34',\n",
              " '_i35',\n",
              " '_i36',\n",
              " '_i37',\n",
              " '_i38',\n",
              " '_i39',\n",
              " '_i4',\n",
              " '_i40',\n",
              " '_i41',\n",
              " '_i42',\n",
              " '_i43',\n",
              " '_i44',\n",
              " '_i45',\n",
              " '_i46',\n",
              " '_i47',\n",
              " '_i48',\n",
              " '_i49',\n",
              " '_i5',\n",
              " '_i50',\n",
              " '_i51',\n",
              " '_i52',\n",
              " '_i53',\n",
              " '_i54',\n",
              " '_i55',\n",
              " '_i56',\n",
              " '_i57',\n",
              " '_i58',\n",
              " '_i6',\n",
              " '_i7',\n",
              " '_i8',\n",
              " '_i9',\n",
              " '_ih',\n",
              " '_ii',\n",
              " '_iii',\n",
              " '_oh',\n",
              " '_sh',\n",
              " 'a',\n",
              " 'config',\n",
              " 'exit',\n",
              " 'get_ipython',\n",
              " 'history',\n",
              " 'img_height',\n",
              " 'img_width',\n",
              " 'json',\n",
              " 'labels',\n",
              " 'mnist',\n",
              " 'model',\n",
              " 'np',\n",
              " 'np_utils',\n",
              " 'num_classes',\n",
              " 'plt',\n",
              " 'quit',\n",
              " 'y_test',\n",
              " 'y_train']"
            ]
          },
          "metadata": {
            "tags": []
          },
          "execution_count": 58
        }
      ]
    },
    {
      "cell_type": "code",
      "metadata": {
        "id": "YSk7qH2QyPKt",
        "colab_type": "code",
        "colab": {
          "base_uri": "https://localhost:8080/",
          "height": 1000
        },
        "outputId": "64a0dc5e-332b-4128-a9da-adf189a943de"
      },
      "source": [
        "_23"
      ],
      "execution_count": 59,
      "outputs": [
        {
          "output_type": "execute_result",
          "data": {
            "text/plain": [
              "array([[  0,   0,   0,   0,   0,   0,   0,   0,   0,   0,   0,   0,   0,\n",
              "          0,   0,   0,   0,   0,   0,   0,   0,   0,   0,   0,   0,   0,\n",
              "          0,   0],\n",
              "       [  0,   0,   0,   0,   0,   0,   0,   0,   0,   0,   0,   0,   0,\n",
              "          0,   0,   0,   0,   0,   0,   0,   0,   0,   0,   0,   0,   0,\n",
              "          0,   0],\n",
              "       [  0,   0,   0,   0,   0,   0,   0,   0,   0,   0,   0,   0,   0,\n",
              "          0,   0,   0,   0,   0,   0,   0,   0,   0,   0,   0,   0,   0,\n",
              "          0,   0],\n",
              "       [  0,   0,   0,   0,   0,   0,   0,   0,   0,   0,   0,   0,   0,\n",
              "          0,   0,   0,   0,   0,   0,   0,   0,   0,   0,   0,   0,   0,\n",
              "          0,   0],\n",
              "       [  0,   0,   0,   0,   0,   0,   0,   0,   0,   0,   0,   0,   0,\n",
              "          0,   0,   0,   0,   0,   0,   0,   0,   0,   0,   0,   0,   0,\n",
              "          0,   0],\n",
              "       [  0,   0,   0,   0,   0,   0,   0,   0,   0,   0,   0,   0,   3,\n",
              "         18,  18,  18, 126, 136, 175,  26, 166, 255, 247, 127,   0,   0,\n",
              "          0,   0],\n",
              "       [  0,   0,   0,   0,   0,   0,   0,   0,  30,  36,  94, 154, 170,\n",
              "        253, 253, 253, 253, 253, 225, 172, 253, 242, 195,  64,   0,   0,\n",
              "          0,   0],\n",
              "       [  0,   0,   0,   0,   0,   0,   0,  49, 238, 253, 253, 253, 253,\n",
              "        253, 253, 253, 253, 251,  93,  82,  82,  56,  39,   0,   0,   0,\n",
              "          0,   0],\n",
              "       [  0,   0,   0,   0,   0,   0,   0,  18, 219, 253, 253, 253, 253,\n",
              "        253, 198, 182, 247, 241,   0,   0,   0,   0,   0,   0,   0,   0,\n",
              "          0,   0],\n",
              "       [  0,   0,   0,   0,   0,   0,   0,   0,  80, 156, 107, 253, 253,\n",
              "        205,  11,   0,  43, 154,   0,   0,   0,   0,   0,   0,   0,   0,\n",
              "          0,   0],\n",
              "       [  0,   0,   0,   0,   0,   0,   0,   0,   0,  14,   1, 154, 253,\n",
              "         90,   0,   0,   0,   0,   0,   0,   0,   0,   0,   0,   0,   0,\n",
              "          0,   0],\n",
              "       [  0,   0,   0,   0,   0,   0,   0,   0,   0,   0,   0, 139, 253,\n",
              "        190,   2,   0,   0,   0,   0,   0,   0,   0,   0,   0,   0,   0,\n",
              "          0,   0],\n",
              "       [  0,   0,   0,   0,   0,   0,   0,   0,   0,   0,   0,  11, 190,\n",
              "        253,  70,   0,   0,   0,   0,   0,   0,   0,   0,   0,   0,   0,\n",
              "          0,   0],\n",
              "       [  0,   0,   0,   0,   0,   0,   0,   0,   0,   0,   0,   0,  35,\n",
              "        241, 225, 160, 108,   1,   0,   0,   0,   0,   0,   0,   0,   0,\n",
              "          0,   0],\n",
              "       [  0,   0,   0,   0,   0,   0,   0,   0,   0,   0,   0,   0,   0,\n",
              "         81, 240, 253, 253, 119,  25,   0,   0,   0,   0,   0,   0,   0,\n",
              "          0,   0],\n",
              "       [  0,   0,   0,   0,   0,   0,   0,   0,   0,   0,   0,   0,   0,\n",
              "          0,  45, 186, 253, 253, 150,  27,   0,   0,   0,   0,   0,   0,\n",
              "          0,   0],\n",
              "       [  0,   0,   0,   0,   0,   0,   0,   0,   0,   0,   0,   0,   0,\n",
              "          0,   0,  16,  93, 252, 253, 187,   0,   0,   0,   0,   0,   0,\n",
              "          0,   0],\n",
              "       [  0,   0,   0,   0,   0,   0,   0,   0,   0,   0,   0,   0,   0,\n",
              "          0,   0,   0,   0, 249, 253, 249,  64,   0,   0,   0,   0,   0,\n",
              "          0,   0],\n",
              "       [  0,   0,   0,   0,   0,   0,   0,   0,   0,   0,   0,   0,   0,\n",
              "          0,  46, 130, 183, 253, 253, 207,   2,   0,   0,   0,   0,   0,\n",
              "          0,   0],\n",
              "       [  0,   0,   0,   0,   0,   0,   0,   0,   0,   0,   0,   0,  39,\n",
              "        148, 229, 253, 253, 253, 250, 182,   0,   0,   0,   0,   0,   0,\n",
              "          0,   0],\n",
              "       [  0,   0,   0,   0,   0,   0,   0,   0,   0,   0,  24, 114, 221,\n",
              "        253, 253, 253, 253, 201,  78,   0,   0,   0,   0,   0,   0,   0,\n",
              "          0,   0],\n",
              "       [  0,   0,   0,   0,   0,   0,   0,   0,  23,  66, 213, 253, 253,\n",
              "        253, 253, 198,  81,   2,   0,   0,   0,   0,   0,   0,   0,   0,\n",
              "          0,   0],\n",
              "       [  0,   0,   0,   0,   0,   0,  18, 171, 219, 253, 253, 253, 253,\n",
              "        195,  80,   9,   0,   0,   0,   0,   0,   0,   0,   0,   0,   0,\n",
              "          0,   0],\n",
              "       [  0,   0,   0,   0,  55, 172, 226, 253, 253, 253, 253, 244, 133,\n",
              "         11,   0,   0,   0,   0,   0,   0,   0,   0,   0,   0,   0,   0,\n",
              "          0,   0],\n",
              "       [  0,   0,   0,   0, 136, 253, 253, 253, 212, 135, 132,  16,   0,\n",
              "          0,   0,   0,   0,   0,   0,   0,   0,   0,   0,   0,   0,   0,\n",
              "          0,   0],\n",
              "       [  0,   0,   0,   0,   0,   0,   0,   0,   0,   0,   0,   0,   0,\n",
              "          0,   0,   0,   0,   0,   0,   0,   0,   0,   0,   0,   0,   0,\n",
              "          0,   0],\n",
              "       [  0,   0,   0,   0,   0,   0,   0,   0,   0,   0,   0,   0,   0,\n",
              "          0,   0,   0,   0,   0,   0,   0,   0,   0,   0,   0,   0,   0,\n",
              "          0,   0],\n",
              "       [  0,   0,   0,   0,   0,   0,   0,   0,   0,   0,   0,   0,   0,\n",
              "          0,   0,   0,   0,   0,   0,   0,   0,   0,   0,   0,   0,   0,\n",
              "          0,   0]], dtype=uint8)"
            ]
          },
          "metadata": {
            "tags": []
          },
          "execution_count": 59
        }
      ]
    },
    {
      "cell_type": "code",
      "metadata": {
        "id": "xN8-K-ZDydFx",
        "colab_type": "code",
        "colab": {
          "base_uri": "https://localhost:8080/",
          "height": 1000
        },
        "outputId": "333a5145-890a-45fc-b4b0-f9b176acd7a6"
      },
      "source": [
        "history.history"
      ],
      "execution_count": 60,
      "outputs": [
        {
          "output_type": "execute_result",
          "data": {
            "text/plain": [
              "{'acc': [0.4884833333333333,\n",
              "  0.5960333333333333,\n",
              "  0.66405,\n",
              "  0.7470833333333333,\n",
              "  0.8194666666666667,\n",
              "  0.8319833333333333,\n",
              "  0.8335333333333333,\n",
              "  0.8378,\n",
              "  0.8378666666666666,\n",
              "  0.8381333333333333,\n",
              "  0.8393166666666667,\n",
              "  0.84125,\n",
              "  0.8397833333333333,\n",
              "  0.8433,\n",
              "  0.8387166666666667,\n",
              "  0.8453166666666667,\n",
              "  0.8431666666666666,\n",
              "  0.8440666666666666,\n",
              "  0.84835,\n",
              "  0.8479833333333333,\n",
              "  0.8415,\n",
              "  0.8488833333333333,\n",
              "  0.84805,\n",
              "  0.8493833333333334,\n",
              "  0.8445666666666667,\n",
              "  0.8506833333333333,\n",
              "  0.8489333333333333,\n",
              "  0.8459,\n",
              "  0.8523833333333334,\n",
              "  0.8515833333333334],\n",
              " 'loss': [8.132766969426473,\n",
              "  6.42717420832316,\n",
              "  5.351972170130412,\n",
              "  4.014060228204394,\n",
              "  2.860794380419453,\n",
              "  2.6652670904527107,\n",
              "  2.648251887418229,\n",
              "  2.586417079138756,\n",
              "  2.587308005303765,\n",
              "  2.5832117152076526,\n",
              "  2.568024083884557,\n",
              "  2.538148473914464,\n",
              "  2.5652688601811726,\n",
              "  2.506560104115804,\n",
              "  2.5811413828382888,\n",
              "  2.4777175579615403,\n",
              "  2.5154388530224563,\n",
              "  2.502308115196228,\n",
              "  2.431882816815063,\n",
              "  2.44017994706134,\n",
              "  2.5433703382809956,\n",
              "  2.4264606395532686,\n",
              "  2.4391250737508137,\n",
              "  2.4167631550073625,\n",
              "  2.4947198568662006,\n",
              "  2.398908651701609,\n",
              "  2.4263896825750884,\n",
              "  2.4744108962217966,\n",
              "  2.3713064485867044,\n",
              "  2.3867711486180623],\n",
              " 'val_acc': [0.5528,\n",
              "  0.6401,\n",
              "  0.7386,\n",
              "  0.8023,\n",
              "  0.8314,\n",
              "  0.8397,\n",
              "  0.8307,\n",
              "  0.8398,\n",
              "  0.8421,\n",
              "  0.8383,\n",
              "  0.8494,\n",
              "  0.8334,\n",
              "  0.8369,\n",
              "  0.8383,\n",
              "  0.8375,\n",
              "  0.8372,\n",
              "  0.8294,\n",
              "  0.8454,\n",
              "  0.8465,\n",
              "  0.8457,\n",
              "  0.8471,\n",
              "  0.834,\n",
              "  0.8495,\n",
              "  0.8498,\n",
              "  0.8469,\n",
              "  0.8473,\n",
              "  0.8558,\n",
              "  0.8462,\n",
              "  0.8452,\n",
              "  0.835],\n",
              " 'val_loss': [7.091745306396485,\n",
              "  5.741956990814209,\n",
              "  4.1643281229019165,\n",
              "  3.1029263540267946,\n",
              "  2.6701126668930053,\n",
              "  2.550294747270085,\n",
              "  2.6915292599399576,\n",
              "  2.56544539294932,\n",
              "  2.5229250568389894,\n",
              "  2.588604668235779,\n",
              "  2.413423561668396,\n",
              "  2.659685402870178,\n",
              "  2.5984360567092897,\n",
              "  2.595865252494812,\n",
              "  2.6035636800765993,\n",
              "  2.611571646308899,\n",
              "  2.7336396614670755,\n",
              "  2.4726966705322266,\n",
              "  2.457008699417114,\n",
              "  2.47704566488266,\n",
              "  2.4527720486164095,\n",
              "  2.659609417915344,\n",
              "  2.4122912071228026,\n",
              "  2.4149915552139283,\n",
              "  2.4587795413970945,\n",
              "  2.4440799823760986,\n",
              "  2.312275986289978,\n",
              "  2.473151121711731,\n",
              "  2.4857977586746216,\n",
              "  2.648197521209717]}"
            ]
          },
          "metadata": {
            "tags": []
          },
          "execution_count": 60
        }
      ]
    },
    {
      "cell_type": "code",
      "metadata": {
        "id": "aGhd-p8u5PJj",
        "colab_type": "code",
        "colab": {
          "base_uri": "https://localhost:8080/",
          "height": 527
        },
        "outputId": "80f48adf-d849-48df-8087-eaed1fb87074"
      },
      "source": [
        "history.epoch"
      ],
      "execution_count": 61,
      "outputs": [
        {
          "output_type": "execute_result",
          "data": {
            "text/plain": [
              "[0,\n",
              " 1,\n",
              " 2,\n",
              " 3,\n",
              " 4,\n",
              " 5,\n",
              " 6,\n",
              " 7,\n",
              " 8,\n",
              " 9,\n",
              " 10,\n",
              " 11,\n",
              " 12,\n",
              " 13,\n",
              " 14,\n",
              " 15,\n",
              " 16,\n",
              " 17,\n",
              " 18,\n",
              " 19,\n",
              " 20,\n",
              " 21,\n",
              " 22,\n",
              " 23,\n",
              " 24,\n",
              " 25,\n",
              " 26,\n",
              " 27,\n",
              " 28,\n",
              " 29]"
            ]
          },
          "metadata": {
            "tags": []
          },
          "execution_count": 61
        }
      ]
    },
    {
      "cell_type": "code",
      "metadata": {
        "id": "goRU0c5q5WGZ",
        "colab_type": "code",
        "colab": {}
      },
      "source": [
        "import matplotlib.pyplot as plt"
      ],
      "execution_count": 0,
      "outputs": []
    },
    {
      "cell_type": "code",
      "metadata": {
        "id": "QkaaQIiM5sM9",
        "colab_type": "code",
        "colab": {
          "base_uri": "https://localhost:8080/",
          "height": 286
        },
        "outputId": "eb33dde6-b412-41b3-9588-7ba1f7a8ec7c"
      },
      "source": [
        "plt.plot(history.epoch, history.history['acc'])"
      ],
      "execution_count": 63,
      "outputs": [
        {
          "output_type": "execute_result",
          "data": {
            "text/plain": [
              "[<matplotlib.lines.Line2D at 0x7f69e0b3cba8>]"
            ]
          },
          "metadata": {
            "tags": []
          },
          "execution_count": 63
        },
        {
          "output_type": "display_data",
          "data": {
            "image/png": "[encoded data removed]",
            "text/plain": [
              "<Figure size 432x288 with 1 Axes>"
            ]
          },
          "metadata": {
            "tags": []
          }
        }
      ]
    },
    {
      "cell_type": "code",
      "metadata": {
        "id": "Vbu5RZrUAkg8",
        "colab_type": "code",
        "colab": {
          "base_uri": "https://localhost:8080/",
          "height": 1000
        },
        "outputId": "483b3d7d-5ca0-4aa9-9115-09ed862fe202"
      },
      "source": [
        "X_train[0]"
      ],
      "execution_count": 64,
      "outputs": [
        {
          "output_type": "execute_result",
          "data": {
            "text/plain": [
              "array([[  0,   0,   0,   0,   0,   0,   0,   0,   0,   0,   0,   0,   0,\n",
              "          0,   0,   0,   0,   0,   0,   0,   0,   0,   0,   0,   0,   0,\n",
              "          0,   0],\n",
              "       [  0,   0,   0,   0,   0,   0,   0,   0,   0,   0,   0,   0,   0,\n",
              "          0,   0,   0,   0,   0,   0,   0,   0,   0,   0,   0,   0,   0,\n",
              "          0,   0],\n",
              "       [  0,   0,   0,   0,   0,   0,   0,   0,   0,   0,   0,   0,   0,\n",
              "          0,   0,   0,   0,   0,   0,   0,   0,   0,   0,   0,   0,   0,\n",
              "          0,   0],\n",
              "       [  0,   0,   0,   0,   0,   0,   0,   0,   0,   0,   0,   0,   0,\n",
              "          0,   0,   0,   0,   0,   0,   0,   0,   0,   0,   0,   0,   0,\n",
              "          0,   0],\n",
              "       [  0,   0,   0,   0,   0,   0,   0,   0,   0,   0,   0,   0,   0,\n",
              "          0,   0,   0,   0,   0,   0,   0,   0,   0,   0,   0,   0,   0,\n",
              "          0,   0],\n",
              "       [  0,   0,   0,   0,   0,   0,   0,   0,   0,   0,   0,   0,   3,\n",
              "         18,  18,  18, 126, 136, 175,  26, 166, 255, 247, 127,   0,   0,\n",
              "          0,   0],\n",
              "       [  0,   0,   0,   0,   0,   0,   0,   0,  30,  36,  94, 154, 170,\n",
              "        253, 253, 253, 253, 253, 225, 172, 253, 242, 195,  64,   0,   0,\n",
              "          0,   0],\n",
              "       [  0,   0,   0,   0,   0,   0,   0,  49, 238, 253, 253, 253, 253,\n",
              "        253, 253, 253, 253, 251,  93,  82,  82,  56,  39,   0,   0,   0,\n",
              "          0,   0],\n",
              "       [  0,   0,   0,   0,   0,   0,   0,  18, 219, 253, 253, 253, 253,\n",
              "        253, 198, 182, 247, 241,   0,   0,   0,   0,   0,   0,   0,   0,\n",
              "          0,   0],\n",
              "       [  0,   0,   0,   0,   0,   0,   0,   0,  80, 156, 107, 253, 253,\n",
              "        205,  11,   0,  43, 154,   0,   0,   0,   0,   0,   0,   0,   0,\n",
              "          0,   0],\n",
              "       [  0,   0,   0,   0,   0,   0,   0,   0,   0,  14,   1, 154, 253,\n",
              "         90,   0,   0,   0,   0,   0,   0,   0,   0,   0,   0,   0,   0,\n",
              "          0,   0],\n",
              "       [  0,   0,   0,   0,   0,   0,   0,   0,   0,   0,   0, 139, 253,\n",
              "        190,   2,   0,   0,   0,   0,   0,   0,   0,   0,   0,   0,   0,\n",
              "          0,   0],\n",
              "       [  0,   0,   0,   0,   0,   0,   0,   0,   0,   0,   0,  11, 190,\n",
              "        253,  70,   0,   0,   0,   0,   0,   0,   0,   0,   0,   0,   0,\n",
              "          0,   0],\n",
              "       [  0,   0,   0,   0,   0,   0,   0,   0,   0,   0,   0,   0,  35,\n",
              "        241, 225, 160, 108,   1,   0,   0,   0,   0,   0,   0,   0,   0,\n",
              "          0,   0],\n",
              "       [  0,   0,   0,   0,   0,   0,   0,   0,   0,   0,   0,   0,   0,\n",
              "         81, 240, 253, 253, 119,  25,   0,   0,   0,   0,   0,   0,   0,\n",
              "          0,   0],\n",
              "       [  0,   0,   0,   0,   0,   0,   0,   0,   0,   0,   0,   0,   0,\n",
              "          0,  45, 186, 253, 253, 150,  27,   0,   0,   0,   0,   0,   0,\n",
              "          0,   0],\n",
              "       [  0,   0,   0,   0,   0,   0,   0,   0,   0,   0,   0,   0,   0,\n",
              "          0,   0,  16,  93, 252, 253, 187,   0,   0,   0,   0,   0,   0,\n",
              "          0,   0],\n",
              "       [  0,   0,   0,   0,   0,   0,   0,   0,   0,   0,   0,   0,   0,\n",
              "          0,   0,   0,   0, 249, 253, 249,  64,   0,   0,   0,   0,   0,\n",
              "          0,   0],\n",
              "       [  0,   0,   0,   0,   0,   0,   0,   0,   0,   0,   0,   0,   0,\n",
              "          0,  46, 130, 183, 253, 253, 207,   2,   0,   0,   0,   0,   0,\n",
              "          0,   0],\n",
              "       [  0,   0,   0,   0,   0,   0,   0,   0,   0,   0,   0,   0,  39,\n",
              "        148, 229, 253, 253, 253, 250, 182,   0,   0,   0,   0,   0,   0,\n",
              "          0,   0],\n",
              "       [  0,   0,   0,   0,   0,   0,   0,   0,   0,   0,  24, 114, 221,\n",
              "        253, 253, 253, 253, 201,  78,   0,   0,   0,   0,   0,   0,   0,\n",
              "          0,   0],\n",
              "       [  0,   0,   0,   0,   0,   0,   0,   0,  23,  66, 213, 253, 253,\n",
              "        253, 253, 198,  81,   2,   0,   0,   0,   0,   0,   0,   0,   0,\n",
              "          0,   0],\n",
              "       [  0,   0,   0,   0,   0,   0,  18, 171, 219, 253, 253, 253, 253,\n",
              "        195,  80,   9,   0,   0,   0,   0,   0,   0,   0,   0,   0,   0,\n",
              "          0,   0],\n",
              "       [  0,   0,   0,   0,  55, 172, 226, 253, 253, 253, 253, 244, 133,\n",
              "         11,   0,   0,   0,   0,   0,   0,   0,   0,   0,   0,   0,   0,\n",
              "          0,   0],\n",
              "       [  0,   0,   0,   0, 136, 253, 253, 253, 212, 135, 132,  16,   0,\n",
              "          0,   0,   0,   0,   0,   0,   0,   0,   0,   0,   0,   0,   0,\n",
              "          0,   0],\n",
              "       [  0,   0,   0,   0,   0,   0,   0,   0,   0,   0,   0,   0,   0,\n",
              "          0,   0,   0,   0,   0,   0,   0,   0,   0,   0,   0,   0,   0,\n",
              "          0,   0],\n",
              "       [  0,   0,   0,   0,   0,   0,   0,   0,   0,   0,   0,   0,   0,\n",
              "          0,   0,   0,   0,   0,   0,   0,   0,   0,   0,   0,   0,   0,\n",
              "          0,   0],\n",
              "       [  0,   0,   0,   0,   0,   0,   0,   0,   0,   0,   0,   0,   0,\n",
              "          0,   0,   0,   0,   0,   0,   0,   0,   0,   0,   0,   0,   0,\n",
              "          0,   0]], dtype=uint8)"
            ]
          },
          "metadata": {
            "tags": []
          },
          "execution_count": 64
        }
      ]
    },
    {
      "cell_type": "code",
      "metadata": {
        "id": "T7hqoYQMAqP_",
        "colab_type": "code",
        "colab": {
          "base_uri": "https://localhost:8080/",
          "height": 34
        },
        "outputId": "e5f8bc72-fb9d-4330-b6cd-e8e032e9093c"
      },
      "source": [
        "y_train[0]"
      ],
      "execution_count": 45,
      "outputs": [
        {
          "output_type": "execute_result",
          "data": {
            "text/plain": [
              "array([0., 0., 0., 0., 0., 1., 0., 0., 0., 0.], dtype=float32)"
            ]
          },
          "metadata": {
            "tags": []
          },
          "execution_count": 45
        }
      ]
    }
  ]
}